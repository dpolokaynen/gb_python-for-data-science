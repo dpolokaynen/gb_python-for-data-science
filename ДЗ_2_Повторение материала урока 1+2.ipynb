{
 "cells": [
  {
   "cell_type": "markdown",
   "metadata": {},
   "source": [
    "## *Задание на повторение материала урока 1 + 2"
   ]
  },
  {
   "cell_type": "markdown",
   "metadata": {},
   "source": [
    "#### 1. Создать одномерный массив Numpy под названием a из 12 последовательных целых чисел чисел от 12 до 24 невключительно"
   ]
  },
  {
   "cell_type": "code",
   "execution_count": 85,
   "metadata": {},
   "outputs": [
    {
     "data": {
      "text/plain": [
       "array([12., 13., 14., 15., 16., 17., 18., 19., 20., 21., 22., 23.])"
      ]
     },
     "metadata": {},
     "output_type": "display_data"
    }
   ],
   "source": [
    "import numpy as np\n",
    "a = np.linspace (12,23,12)\n",
    "display(a)"
   ]
  },
  {
   "cell_type": "markdown",
   "metadata": {},
   "source": [
    "#### 2. Создать 5 двумерных массивов разной формы из массива a. Не использовать в аргументах метода reshape число -1."
   ]
  },
  {
   "cell_type": "code",
   "execution_count": 98,
   "metadata": {},
   "outputs": [
    {
     "name": "stdout",
     "output_type": "stream",
     "text": [
      "[[12. 13. 14. 15. 16. 17. 18. 19. 20. 21. 22. 23.]]\n"
     ]
    }
   ],
   "source": [
    "a_1 = a.reshape(1,12)\n",
    "a_2 = a.reshape(2,6)\n",
    "a_3 = a.reshape(3,4)\n",
    "a_4 = a.reshape(4,3)\n",
    "a_5 = a.reshape(6,2)"
   ]
  },
  {
   "cell_type": "markdown",
   "metadata": {},
   "source": [
    "#### 3. Создать 5 двумерных массивов разной формы из массива a. Использовать в аргументах метода reshape число -1 (в трех примерах - для обозначения числа столбцов, в двух - для строк)."
   ]
  },
  {
   "cell_type": "code",
   "execution_count": 93,
   "metadata": {},
   "outputs": [
    {
     "name": "stdout",
     "output_type": "stream",
     "text": [
      "[12. 13. 14. 15. 16. 17. 18. 19. 20. 21. 22. 23.]\n",
      "[[12. 13. 14.]\n",
      " [15. 16. 17.]\n",
      " [18. 19. 20.]\n",
      " [21. 22. 23.]]\n",
      "[[12. 13.]\n",
      " [14. 15.]\n",
      " [16. 17.]\n",
      " [18. 19.]\n",
      " [20. 21.]\n",
      " [22. 23.]]\n"
     ]
    }
   ],
   "source": [
    "a_1 = a.reshape(-1,3)\n",
    "a_2 = a.reshape(-1,4)\n",
    "a_3 = a.reshape(3,-1)\n",
    "a_4 = a.reshape(2,-1)\n",
    "a_5 = a.reshape(6,-1)"
   ]
  },
  {
   "cell_type": "markdown",
   "metadata": {},
   "source": [
    "#### 4. Можно ли массив Numpy, состоящий из одного столбца и 12 строк, назвать одномерным?"
   ]
  },
  {
   "cell_type": "code",
   "execution_count": null,
   "metadata": {},
   "outputs": [],
   "source": [
    "#Нет, так как он содержит в себе одномерный массив (список из 12 значений). Поэтому является двумерным"
   ]
  },
  {
   "cell_type": "markdown",
   "metadata": {},
   "source": [
    "#### 5. Создать массив из 3 строк и 4 столбцов, состоящий из случайных чисел с плавающей запятой из нормального распределения со средним, равным 0 и среднеквадратичным отклонением, равным 1.0. Получить из этого массива одномерный массив с таким же атрибутом size, как и исходный массив."
   ]
  },
  {
   "cell_type": "code",
   "execution_count": 101,
   "metadata": {},
   "outputs": [
    {
     "name": "stdout",
     "output_type": "stream",
     "text": [
      "[[ 1.47846616  1.41550328  0.2374453  -1.77548219]\n",
      " [-2.19029637 -0.6294058   0.88026218  0.44015665]\n",
      " [ 0.0742865  -1.38323786  0.27172601  0.22665443]]\n",
      "[ 1.47846616  1.41550328  0.2374453  -1.77548219 -2.19029637 -0.6294058\n",
      "  0.88026218  0.44015665  0.0742865  -1.38323786  0.27172601  0.22665443]\n"
     ]
    }
   ],
   "source": [
    "rand_normal  = np.random.normal(0, 1, size=(3, 4))\n",
    "print(rand_normal)\n",
    "b=rand_normal.flatten()\n",
    "print(b)"
   ]
  },
  {
   "cell_type": "markdown",
   "metadata": {},
   "source": [
    "#### 6. Создать массив a, состоящий из целых чисел, убывающих от 20 до 0 невключительно с интервалом 2."
   ]
  },
  {
   "cell_type": "code",
   "execution_count": 13,
   "metadata": {},
   "outputs": [
    {
     "name": "stdout",
     "output_type": "stream",
     "text": [
      "[20 18 16 14 12 10  8  6  4  2]\n"
     ]
    }
   ],
   "source": [
    "a = -1* np.arange(-20,0,2)\n",
    "print(a)"
   ]
  },
  {
   "cell_type": "markdown",
   "metadata": {},
   "source": [
    "#### 7. Создать массив b, состоящий из 1 строки и 10 столбцов: целых чисел, убывающих от 20 до 1 невключительно с интервалом 2. В чем разница между массивами a и b?"
   ]
  },
  {
   "cell_type": "code",
   "execution_count": 15,
   "metadata": {},
   "outputs": [
    {
     "name": "stdout",
     "output_type": "stream",
     "text": [
      "[[20 18 16 14 12 10  8  6  4  2]]\n"
     ]
    }
   ],
   "source": [
    "b = a.reshape(1,10)\n",
    "print(b)\n",
    "#Разница в том, что a содержит 10 значений, а b - только одно: список из 10 значений"
   ]
  },
  {
   "cell_type": "markdown",
   "metadata": {},
   "source": [
    "#### 8. Вертикально соединить массивы a и b. a - двумерный массив из нулей, число строк которого больше 1 и на 1 меньше, чем число строк двумерного массива b, состоящего из единиц. Итоговый массив v должен иметь атрибут size, равный 10."
   ]
  },
  {
   "cell_type": "code",
   "execution_count": 32,
   "metadata": {},
   "outputs": [
    {
     "name": "stdout",
     "output_type": "stream",
     "text": [
      "[[0. 0. 0.]\n",
      " [0. 0. 0.]\n",
      " [1. 1. 1.]\n",
      " [1. 1. 1.]\n",
      " [1. 1. 1.]]\n"
     ]
    }
   ],
   "source": [
    "a = np.zeros(6).reshape(2,3)\n",
    "b = np.ones(9).reshape(3,3)\n",
    "#print(a)\n",
    "#print(b)\n",
    "v = np.vstack((a,b))\n",
    "print(v)"
   ]
  },
  {
   "cell_type": "markdown",
   "metadata": {},
   "source": [
    "#### 9. Создать одномерный массив а, состоящий из последовательности целых чисел от 0 до 12. Поменять форму этого массива, чтобы получилась матрица A (двумерный массив Numpy), состоящая из 4 строк и 3 столбцов. Получить матрицу At путем транспонирования матрицы A. Получить матрицу B, умножив матрицу A на матрицу At с помощью матричного умножения. Какой размер имеет матрица B? Получится ли вычислить обратную матрицу для матрицы B и почему?"
   ]
  },
  {
   "cell_type": "code",
   "execution_count": 105,
   "metadata": {},
   "outputs": [
    {
     "name": "stdout",
     "output_type": "stream",
     "text": [
      "[[  5  14  23  32]\n",
      " [ 14  50  86 122]\n",
      " [ 23  86 149 212]\n",
      " [ 32 122 212 302]]\n"
     ]
    }
   ],
   "source": [
    "a = np.arange(0,12).reshape(4,3)\n",
    "at = a.transpose()\n",
    "b = a @ at\n",
    "print(b)\n",
    "#inverse_b = np.linalg.inv(b) \n",
    "#print(inverse_b)\n",
    "#Размер матрицы B - 4*4, так как матрица (4*3) умножилась на матрицу (3*4)\n",
    "#Обратной матрицы у B нет, так как строки зависимы"
   ]
  },
  {
   "cell_type": "markdown",
   "metadata": {},
   "source": [
    "#### 10. Инициализируйте генератор случайных числе с помощью объекта seed, равного 42."
   ]
  },
  {
   "cell_type": "code",
   "execution_count": 106,
   "metadata": {},
   "outputs": [],
   "source": [
    "import random\n",
    "random.seed(42)"
   ]
  },
  {
   "cell_type": "markdown",
   "metadata": {},
   "source": [
    "#### 11. Создайте одномерный массив c, составленный из последовательности 16-ти случайных равномерно распределенных целых чисел от 0 до 16 невключительно. "
   ]
  },
  {
   "cell_type": "code",
   "execution_count": 107,
   "metadata": {},
   "outputs": [
    {
     "name": "stdout",
     "output_type": "stream",
     "text": [
      "[ 0 15 15 15  3 10 10  4  0 11 14 12 14 14  7 11]\n"
     ]
    }
   ],
   "source": [
    "random.seed(42) \n",
    "c = np.random.randint(0, 17, 16)\n",
    "print(c)"
   ]
  },
  {
   "cell_type": "markdown",
   "metadata": {},
   "source": [
    "#### 12. Поменяйте его форму так, чтобы получилась квадратная матрица C. Получите матрицу D, поэлементно прибавив матрицу B из предыдущего вопроса к матрице C, умноженной на 10. Вычислите определитель, ранг и обратную матрицу D_inv для D."
   ]
  },
  {
   "cell_type": "code",
   "execution_count": 111,
   "metadata": {},
   "outputs": [
    {
     "name": "stdout",
     "output_type": "stream",
     "text": [
      "Матрица C:\n",
      "[[ 0 15 15 15]\n",
      " [ 3 10 10  4]\n",
      " [ 0 11 14 12]\n",
      " [14 14  7 11]]\n",
      "Матрица D:\n",
      "[[  5 164 173 182]\n",
      " [ 44 150 186 162]\n",
      " [ 23 196 289 332]\n",
      " [172 262 282 412]]\n",
      "Определитель матрицы:\n",
      "-146230599.9999997\n",
      "Ранк матрицы:\n",
      "4\n",
      "Обратная матрица:\n",
      "[[-0.01137587  0.01046142 -0.00380399  0.00397714]\n",
      " [ 0.02035402 -0.0034224  -0.01179794  0.00186144]\n",
      " [-0.0163089   0.01874423  0.00618215 -0.00514762]\n",
      " [ 0.00296846 -0.0150208   0.00485917  0.00310646]]\n"
     ]
    }
   ],
   "source": [
    "matrix_c = c.reshape(4,4)\n",
    "print('Матрица C:')\n",
    "print(matrix_c)\n",
    "matrix_d = b + matrix_c * 10\n",
    "print('Матрица D:')\n",
    "print(matrix_d)\n",
    "det_d = np.linalg.det(matrix_d)\n",
    "print('Определитель матрицы:')\n",
    "print(det_d)\n",
    "rank_d = np.linalg.matrix_rank(matrix_d)\n",
    "print('Ранк матрицы:')\n",
    "print(rank_d)\n",
    "inverse_d = np.linalg.inv(matrix_d)\n",
    "print('Обратная матрица:')\n",
    "print(inverse_d)"
   ]
  },
  {
   "cell_type": "markdown",
   "metadata": {},
   "source": [
    "#### 13. Приравняйте к нулю отрицательные числа в матрице D_inv, а положительные - к единице. Убедитесь, что в матрице D_inv остались только нули и единицы. С помощью функции numpy.where, используя матрицу D_inv в качестве маски, а матрицы B и C - в качестве источников данных, получите матрицу E размером 4x4.  Элементы матрицы E, для которых соответствующий элемент матрицы D_inv равен 1, должны быть равны соответствующему элементу матрицы B, а элементы матрицы E, для которых соответствующий элемент матрицы D_inv равен 0, должны быть равны соответствующему элементу матрицы C."
   ]
  },
  {
   "cell_type": "code",
   "execution_count": 112,
   "metadata": {},
   "outputs": [
    {
     "data": {
      "text/plain": [
       "array([[False,  True, False,  True],\n",
       "       [ True, False, False,  True],\n",
       "       [False,  True,  True, False],\n",
       "       [ True, False,  True,  True]])"
      ]
     },
     "execution_count": 112,
     "metadata": {},
     "output_type": "execute_result"
    }
   ],
   "source": []
  }
 ],
 "metadata": {
  "kernelspec": {
   "display_name": "Python 3",
   "language": "python",
   "name": "python3"
  },
  "language_info": {
   "codemirror_mode": {
    "name": "ipython",
    "version": 3
   },
   "file_extension": ".py",
   "mimetype": "text/x-python",
   "name": "python",
   "nbconvert_exporter": "python",
   "pygments_lexer": "ipython3",
   "version": "3.8.3"
  }
 },
 "nbformat": 4,
 "nbformat_minor": 4
}
